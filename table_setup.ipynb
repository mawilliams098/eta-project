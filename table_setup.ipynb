{
 "cells": [
  {
   "cell_type": "markdown",
   "id": "treated-moderator",
   "metadata": {},
   "source": [
    "# Table Setup \n",
    "Annie Williams (maw3as@virginia.edu)  \n",
    "DS 5001  \n",
    "2 May 2021"
   ]
  },
  {
   "cell_type": "code",
   "execution_count": 1,
   "id": "regular-penalty",
   "metadata": {},
   "outputs": [],
   "source": [
    "import pandas as pd"
   ]
  },
  {
   "cell_type": "code",
   "execution_count": 2,
   "id": "accompanied-sunday",
   "metadata": {},
   "outputs": [],
   "source": [
    "data_in = './data_in'\n",
    "data_out = './data_out'"
   ]
  },
  {
   "cell_type": "code",
   "execution_count": null,
   "id": "powered-mechanics",
   "metadata": {},
   "outputs": [],
   "source": [
    "epub_file = \"pg42324.txt\" # Source file\n",
    "csv_file = 'frankenstein2.csv' # The file we will create"
   ]
  },
  {
   "cell_type": "code",
   "execution_count": null,
   "id": "logical-blend",
   "metadata": {},
   "outputs": [],
   "source": [
    "OHCO = ['book_num', 'stanza_num', 'line_num', 'token_num']"
   ]
  }
 ],
 "metadata": {
  "kernelspec": {
   "display_name": "Python 3",
   "language": "python",
   "name": "python3"
  },
  "language_info": {
   "codemirror_mode": {
    "name": "ipython",
    "version": 3
   },
   "file_extension": ".py",
   "mimetype": "text/x-python",
   "name": "python",
   "nbconvert_exporter": "python",
   "pygments_lexer": "ipython3",
   "version": "3.7.6"
  }
 },
 "nbformat": 4,
 "nbformat_minor": 5
}
